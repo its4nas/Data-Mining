{
 "cells": [
  {
   "cell_type": "code",
   "execution_count": 2,
   "metadata": {},
   "outputs": [
    {
     "name": "stdout",
     "output_type": "stream",
     "text": [
      "Simple Matching Coefficient: 0.7000\n"
     ]
    }
   ],
   "source": [
    "def SMC(bit_string1, bit_string2):\n",
    "    if len(bit_string1) != len(bit_string2):\n",
    "        raise ValueError(\"Input bit strings must have equal length\")\n",
    "\n",
    "    num_matching_bits = sum(bit1 == bit2 for bit1, bit2 in zip(bit_string1, bit_string2))\n",
    "    total_bits = len(bit_string1)\n",
    "\n",
    "    if total_bits == 0:\n",
    "        return 0.0  # Handle division by zero\n",
    "    else:\n",
    "        return num_matching_bits / total_bits\n",
    "\n",
    "# Example usage:\n",
    "bit_string1 = \"1000000000\"\n",
    "bit_string2 = \"0000001001\"\n",
    "smc_value = SMC(bit_string1, bit_string2)\n",
    "print(f\"Simple Matching Coefficient: {smc_value:.4f}\")\n"
   ]
  }
 ],
 "metadata": {
  "kernelspec": {
   "display_name": "base",
   "language": "python",
   "name": "python3"
  },
  "language_info": {
   "codemirror_mode": {
    "name": "ipython",
    "version": 3
   },
   "file_extension": ".py",
   "mimetype": "text/x-python",
   "name": "python",
   "nbconvert_exporter": "python",
   "pygments_lexer": "ipython3",
   "version": "3.8.5"
  }
 },
 "nbformat": 4,
 "nbformat_minor": 2
}

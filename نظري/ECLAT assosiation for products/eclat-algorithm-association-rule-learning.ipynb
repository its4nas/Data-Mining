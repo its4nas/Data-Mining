{
 "cells": [
  {
   "cell_type": "markdown",
   "id": "twelve-montgomery",
   "metadata": {
    "papermill": {
     "duration": 0.010308,
     "end_time": "2021-07-06T16:35:17.792902",
     "exception": false,
     "start_time": "2021-07-06T16:35:17.782594",
     "status": "completed"
    },
    "tags": []
   },
   "source": [
    "**Eclat Algorithm - Association Rule Learning** suggests what customers will buy, based on past purchases (i.e, dataset containing 7500 values)"
   ]
  },
  {
   "cell_type": "code",
   "execution_count": 2,
   "id": "private-catalyst",
   "metadata": {
    "execution": {
     "iopub.execute_input": "2021-07-06T16:35:17.820798Z",
     "iopub.status.busy": "2021-07-06T16:35:17.820078Z",
     "iopub.status.idle": "2021-07-06T16:35:27.606179Z",
     "shell.execute_reply": "2021-07-06T16:35:27.606703Z",
     "shell.execute_reply.started": "2021-07-06T16:28:36.953416Z"
    },
    "papermill": {
     "duration": 9.803434,
     "end_time": "2021-07-06T16:35:27.606874",
     "exception": false,
     "start_time": "2021-07-06T16:35:17.803440",
     "status": "completed"
    },
    "tags": []
   },
   "outputs": [],
   "source": [
    "#  !pip install apyori"
   ]
  },
  {
   "cell_type": "code",
   "execution_count": 3,
   "id": "coral-religious",
   "metadata": {
    "execution": {
     "iopub.execute_input": "2021-07-06T16:35:27.640545Z",
     "iopub.status.busy": "2021-07-06T16:35:27.639743Z",
     "iopub.status.idle": "2021-07-06T16:35:27.644283Z",
     "shell.execute_reply": "2021-07-06T16:35:27.643694Z",
     "shell.execute_reply.started": "2021-07-06T16:29:24.351162Z"
    },
    "papermill": {
     "duration": 0.023533,
     "end_time": "2021-07-06T16:35:27.644434",
     "exception": false,
     "start_time": "2021-07-06T16:35:27.620901",
     "status": "completed"
    },
    "tags": []
   },
   "outputs": [],
   "source": [
    "#importing libraries\n",
    "import numpy as np\n",
    "import matplotlib.pyplot as plt\n",
    "import pandas as pd"
   ]
  },
  {
   "cell_type": "code",
   "execution_count": 4,
   "id": "southeast-percentage",
   "metadata": {
    "execution": {
     "iopub.execute_input": "2021-07-06T16:35:27.679458Z",
     "iopub.status.busy": "2021-07-06T16:35:27.678817Z",
     "iopub.status.idle": "2021-07-06T16:35:28.501831Z",
     "shell.execute_reply": "2021-07-06T16:35:28.501244Z",
     "shell.execute_reply.started": "2021-07-06T16:30:09.484151Z"
    },
    "papermill": {
     "duration": 0.843387,
     "end_time": "2021-07-06T16:35:28.502000",
     "exception": false,
     "start_time": "2021-07-06T16:35:27.658613",
     "status": "completed"
    },
    "tags": []
   },
   "outputs": [],
   "source": [
    "#importing dataset\n",
    "ds = pd.read_csv('market basket optimisation.csv', header = None)\n",
    "transactions = []\n",
    "for i in range(0, 7501):\n",
    "  transactions.append([str(ds.values[i,j]) for j in range(0, 20)])"
   ]
  },
  {
   "cell_type": "code",
   "execution_count": 5,
   "id": "interstate-potential",
   "metadata": {
    "execution": {
     "iopub.execute_input": "2021-07-06T16:35:28.536092Z",
     "iopub.status.busy": "2021-07-06T16:35:28.535271Z",
     "iopub.status.idle": "2021-07-06T16:35:28.542720Z",
     "shell.execute_reply": "2021-07-06T16:35:28.542027Z",
     "shell.execute_reply.started": "2021-07-06T16:30:53.809803Z"
    },
    "papermill": {
     "duration": 0.02653,
     "end_time": "2021-07-06T16:35:28.542892",
     "exception": false,
     "start_time": "2021-07-06T16:35:28.516362",
     "status": "completed"
    },
    "tags": []
   },
   "outputs": [],
   "source": [
    "#training eclat model to the dataset\n",
    "from apyori import apriori\n",
    "rules = apriori(transactions = transactions, min_support = 0.003, min_confidence = 0.2, min_lift = 3, min_length = 2, max_length = 2)"
   ]
  },
  {
   "cell_type": "markdown",
   "id": "general-gamma",
   "metadata": {
    "papermill": {
     "duration": 0.015646,
     "end_time": "2021-07-06T16:35:28.572753",
     "exception": false,
     "start_time": "2021-07-06T16:35:28.557107",
     "status": "completed"
    },
    "tags": []
   },
   "source": [
    "Visualising the results"
   ]
  },
  {
   "cell_type": "code",
   "execution_count": 6,
   "id": "adjacent-father",
   "metadata": {
    "execution": {
     "iopub.execute_input": "2021-07-06T16:35:28.606987Z",
     "iopub.status.busy": "2021-07-06T16:35:28.606335Z",
     "iopub.status.idle": "2021-07-06T16:35:28.765219Z",
     "shell.execute_reply": "2021-07-06T16:35:28.765899Z",
     "shell.execute_reply.started": "2021-07-06T16:33:36.566014Z"
    },
    "papermill": {
     "duration": 0.18191,
     "end_time": "2021-07-06T16:35:28.766112",
     "exception": false,
     "start_time": "2021-07-06T16:35:28.584202",
     "status": "completed"
    },
    "tags": []
   },
   "outputs": [
    {
     "data": {
      "text/plain": [
       "[RelationRecord(items=frozenset({'light cream', 'chicken'}), support=0.004532728969470737, ordered_statistics=[OrderedStatistic(items_base=frozenset({'light cream'}), items_add=frozenset({'chicken'}), confidence=0.29059829059829057, lift=4.84395061728395)]),\n",
       " RelationRecord(items=frozenset({'escalope', 'mushroom cream sauce'}), support=0.005732568990801226, ordered_statistics=[OrderedStatistic(items_base=frozenset({'mushroom cream sauce'}), items_add=frozenset({'escalope'}), confidence=0.3006993006993007, lift=3.790832696715049)]),\n",
       " RelationRecord(items=frozenset({'escalope', 'pasta'}), support=0.005865884548726837, ordered_statistics=[OrderedStatistic(items_base=frozenset({'pasta'}), items_add=frozenset({'escalope'}), confidence=0.3728813559322034, lift=4.700811850163794)]),\n",
       " RelationRecord(items=frozenset({'honey', 'fromage blanc'}), support=0.003332888948140248, ordered_statistics=[OrderedStatistic(items_base=frozenset({'fromage blanc'}), items_add=frozenset({'honey'}), confidence=0.2450980392156863, lift=5.164270764485569)]),\n",
       " RelationRecord(items=frozenset({'herb & pepper', 'ground beef'}), support=0.015997866951073192, ordered_statistics=[OrderedStatistic(items_base=frozenset({'herb & pepper'}), items_add=frozenset({'ground beef'}), confidence=0.3234501347708895, lift=3.2919938411349285)]),\n",
       " RelationRecord(items=frozenset({'tomato sauce', 'ground beef'}), support=0.005332622317024397, ordered_statistics=[OrderedStatistic(items_base=frozenset({'tomato sauce'}), items_add=frozenset({'ground beef'}), confidence=0.3773584905660377, lift=3.840659481324083)]),\n",
       " RelationRecord(items=frozenset({'olive oil', 'light cream'}), support=0.003199573390214638, ordered_statistics=[OrderedStatistic(items_base=frozenset({'light cream'}), items_add=frozenset({'olive oil'}), confidence=0.20512820512820515, lift=3.1147098515519573)]),\n",
       " RelationRecord(items=frozenset({'olive oil', 'whole wheat pasta'}), support=0.007998933475536596, ordered_statistics=[OrderedStatistic(items_base=frozenset({'whole wheat pasta'}), items_add=frozenset({'olive oil'}), confidence=0.2714932126696833, lift=4.122410097642296)]),\n",
       " RelationRecord(items=frozenset({'pasta', 'shrimp'}), support=0.005065991201173177, ordered_statistics=[OrderedStatistic(items_base=frozenset({'pasta'}), items_add=frozenset({'shrimp'}), confidence=0.3220338983050847, lift=4.506672147735896)])]"
      ]
     },
     "execution_count": 6,
     "metadata": {},
     "output_type": "execute_result"
    }
   ],
   "source": [
    "#Displaying the first results coming directly from the output of the apriori function\n",
    "results = list(rules)\n",
    "results"
   ]
  },
  {
   "cell_type": "code",
   "execution_count": 8,
   "id": "separate-marine",
   "metadata": {
    "execution": {
     "iopub.execute_input": "2021-07-06T16:35:28.806502Z",
     "iopub.status.busy": "2021-07-06T16:35:28.805665Z",
     "iopub.status.idle": "2021-07-06T16:35:28.812134Z",
     "shell.execute_reply": "2021-07-06T16:35:28.812690Z",
     "shell.execute_reply.started": "2021-07-06T16:34:06.009757Z"
    },
    "papermill": {
     "duration": 0.027691,
     "end_time": "2021-07-06T16:35:28.812875",
     "exception": false,
     "start_time": "2021-07-06T16:35:28.785184",
     "status": "completed"
    },
    "tags": []
   },
   "outputs": [],
   "source": [
    "#Putting the results well organised into a Pandas DataFrame\n",
    "def inspect(results):\n",
    "    lhs         = [tuple(result[2][0][0])[0] for result in results]\n",
    "    rhs         = [tuple(result[2][0][1])[0] for result in results]\n",
    "    supports    = [result[1] for result in results]\n",
    "    return list(zip(lhs, rhs, supports))\n",
    "resultsinDataFrame = pd.DataFrame(inspect(results), columns = ['Product 1', 'Product 2', 'Support'])"
   ]
  },
  {
   "cell_type": "code",
   "execution_count": 9,
   "id": "judicial-costume",
   "metadata": {
    "execution": {
     "iopub.execute_input": "2021-07-06T16:35:28.846159Z",
     "iopub.status.busy": "2021-07-06T16:35:28.844927Z",
     "iopub.status.idle": "2021-07-06T16:35:28.876418Z",
     "shell.execute_reply": "2021-07-06T16:35:28.875620Z",
     "shell.execute_reply.started": "2021-07-06T16:34:31.491212Z"
    },
    "papermill": {
     "duration": 0.048695,
     "end_time": "2021-07-06T16:35:28.876586",
     "exception": false,
     "start_time": "2021-07-06T16:35:28.827891",
     "status": "completed"
    },
    "tags": []
   },
   "outputs": [
    {
     "data": {
      "text/html": [
       "<div>\n",
       "<style scoped>\n",
       "    .dataframe tbody tr th:only-of-type {\n",
       "        vertical-align: middle;\n",
       "    }\n",
       "\n",
       "    .dataframe tbody tr th {\n",
       "        vertical-align: top;\n",
       "    }\n",
       "\n",
       "    .dataframe thead th {\n",
       "        text-align: right;\n",
       "    }\n",
       "</style>\n",
       "<table border=\"1\" class=\"dataframe\">\n",
       "  <thead>\n",
       "    <tr style=\"text-align: right;\">\n",
       "      <th></th>\n",
       "      <th>Product 1</th>\n",
       "      <th>Product 2</th>\n",
       "      <th>Support</th>\n",
       "    </tr>\n",
       "  </thead>\n",
       "  <tbody>\n",
       "    <tr>\n",
       "      <th>4</th>\n",
       "      <td>herb &amp; pepper</td>\n",
       "      <td>ground beef</td>\n",
       "      <td>0.015998</td>\n",
       "    </tr>\n",
       "    <tr>\n",
       "      <th>7</th>\n",
       "      <td>whole wheat pasta</td>\n",
       "      <td>olive oil</td>\n",
       "      <td>0.007999</td>\n",
       "    </tr>\n",
       "    <tr>\n",
       "      <th>2</th>\n",
       "      <td>pasta</td>\n",
       "      <td>escalope</td>\n",
       "      <td>0.005866</td>\n",
       "    </tr>\n",
       "    <tr>\n",
       "      <th>1</th>\n",
       "      <td>mushroom cream sauce</td>\n",
       "      <td>escalope</td>\n",
       "      <td>0.005733</td>\n",
       "    </tr>\n",
       "    <tr>\n",
       "      <th>5</th>\n",
       "      <td>tomato sauce</td>\n",
       "      <td>ground beef</td>\n",
       "      <td>0.005333</td>\n",
       "    </tr>\n",
       "    <tr>\n",
       "      <th>8</th>\n",
       "      <td>pasta</td>\n",
       "      <td>shrimp</td>\n",
       "      <td>0.005066</td>\n",
       "    </tr>\n",
       "    <tr>\n",
       "      <th>0</th>\n",
       "      <td>light cream</td>\n",
       "      <td>chicken</td>\n",
       "      <td>0.004533</td>\n",
       "    </tr>\n",
       "    <tr>\n",
       "      <th>3</th>\n",
       "      <td>fromage blanc</td>\n",
       "      <td>honey</td>\n",
       "      <td>0.003333</td>\n",
       "    </tr>\n",
       "    <tr>\n",
       "      <th>6</th>\n",
       "      <td>light cream</td>\n",
       "      <td>olive oil</td>\n",
       "      <td>0.003200</td>\n",
       "    </tr>\n",
       "  </tbody>\n",
       "</table>\n",
       "</div>"
      ],
      "text/plain": [
       "              Product 1    Product 2   Support\n",
       "4         herb & pepper  ground beef  0.015998\n",
       "7     whole wheat pasta    olive oil  0.007999\n",
       "2                 pasta     escalope  0.005866\n",
       "1  mushroom cream sauce     escalope  0.005733\n",
       "5          tomato sauce  ground beef  0.005333\n",
       "8                 pasta       shrimp  0.005066\n",
       "0           light cream      chicken  0.004533\n",
       "3         fromage blanc        honey  0.003333\n",
       "6           light cream    olive oil  0.003200"
      ]
     },
     "execution_count": 9,
     "metadata": {},
     "output_type": "execute_result"
    }
   ],
   "source": [
    "#Displaying the results sorted by descending supports\n",
    "resultsinDataFrame.nlargest(n = 10, columns = 'Support')"
   ]
  }
 ],
 "metadata": {
  "kernelspec": {
   "display_name": "Python 3",
   "language": "python",
   "name": "python3"
  },
  "language_info": {
   "codemirror_mode": {
    "name": "ipython",
    "version": 3
   },
   "file_extension": ".py",
   "mimetype": "text/x-python",
   "name": "python",
   "nbconvert_exporter": "python",
   "pygments_lexer": "ipython3",
   "version": "3.8.5"
  },
  "papermill": {
   "default_parameters": {},
   "duration": 17.830029,
   "end_time": "2021-07-06T16:35:29.504348",
   "environment_variables": {},
   "exception": null,
   "input_path": "__notebook__.ipynb",
   "output_path": "__notebook__.ipynb",
   "parameters": {},
   "start_time": "2021-07-06T16:35:11.674319",
   "version": "2.3.2"
  }
 },
 "nbformat": 4,
 "nbformat_minor": 5
}
